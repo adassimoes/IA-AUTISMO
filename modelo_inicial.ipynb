{
 "cells": [
  {
   "cell_type": "markdown",
   "id": "ad242ded",
   "metadata": {},
   "source": [
    "# Modelo Inicial"
   ]
  },
  {
   "cell_type": "code",
   "execution_count": 16,
   "id": "83fa77a6",
   "metadata": {},
   "outputs": [],
   "source": [
    "import pandas as pd\n",
    "from adr import dataset,metrics # dataset e metricas\n",
    "import numpy as np \n",
    "import matplotlib.pyplot as plt\n",
    "from sklearn import tree \n",
    "from sklearn.model_selection import train_test_split, KFold, StratifiedKFold \n",
    "from sklearn.metrics import confusion_matrix \n",
    "from sklearn.utils.multiclass import unique_labels\n",
    "import sklearn.metrics\n",
    "from sklearn import tree\n",
    "from pprint import pprint\n",
    "\n",
    "%matplotlib inline"
   ]
  },
  {
   "cell_type": "code",
   "execution_count": 17,
   "id": "de071c01",
   "metadata": {},
   "outputs": [
    {
     "data": {
      "text/html": [
       "<div>\n",
       "<style scoped>\n",
       "    .dataframe tbody tr th:only-of-type {\n",
       "        vertical-align: middle;\n",
       "    }\n",
       "\n",
       "    .dataframe tbody tr th {\n",
       "        vertical-align: top;\n",
       "    }\n",
       "\n",
       "    .dataframe thead th {\n",
       "        text-align: right;\n",
       "    }\n",
       "</style>\n",
       "<table border=\"1\" class=\"dataframe\">\n",
       "  <thead>\n",
       "    <tr style=\"text-align: right;\">\n",
       "      <th></th>\n",
       "      <th>id</th>\n",
       "      <th>A1_Score</th>\n",
       "      <th>A2_Score</th>\n",
       "      <th>A3_Score</th>\n",
       "      <th>A4_Score</th>\n",
       "      <th>A5_Score</th>\n",
       "      <th>A6_Score</th>\n",
       "      <th>A7_Score</th>\n",
       "      <th>A8_Score</th>\n",
       "      <th>A9_Score</th>\n",
       "      <th>...</th>\n",
       "      <th>gender</th>\n",
       "      <th>ethnicity</th>\n",
       "      <th>jundice</th>\n",
       "      <th>austim</th>\n",
       "      <th>contry_of_res</th>\n",
       "      <th>used_app_before</th>\n",
       "      <th>result</th>\n",
       "      <th>age_desc</th>\n",
       "      <th>relation</th>\n",
       "      <th>Class/ASD</th>\n",
       "    </tr>\n",
       "  </thead>\n",
       "  <tbody>\n",
       "    <tr>\n",
       "      <th>0</th>\n",
       "      <td>1</td>\n",
       "      <td>1</td>\n",
       "      <td>1</td>\n",
       "      <td>1</td>\n",
       "      <td>1</td>\n",
       "      <td>0</td>\n",
       "      <td>0</td>\n",
       "      <td>1</td>\n",
       "      <td>1</td>\n",
       "      <td>0</td>\n",
       "      <td>...</td>\n",
       "      <td>f</td>\n",
       "      <td>White-European</td>\n",
       "      <td>no</td>\n",
       "      <td>no</td>\n",
       "      <td>United States</td>\n",
       "      <td>no</td>\n",
       "      <td>6</td>\n",
       "      <td>18 and more</td>\n",
       "      <td>Self</td>\n",
       "      <td>NO</td>\n",
       "    </tr>\n",
       "    <tr>\n",
       "      <th>1</th>\n",
       "      <td>2</td>\n",
       "      <td>1</td>\n",
       "      <td>1</td>\n",
       "      <td>0</td>\n",
       "      <td>1</td>\n",
       "      <td>0</td>\n",
       "      <td>0</td>\n",
       "      <td>0</td>\n",
       "      <td>1</td>\n",
       "      <td>0</td>\n",
       "      <td>...</td>\n",
       "      <td>m</td>\n",
       "      <td>Latino</td>\n",
       "      <td>no</td>\n",
       "      <td>yes</td>\n",
       "      <td>Brazil</td>\n",
       "      <td>no</td>\n",
       "      <td>5</td>\n",
       "      <td>18 and more</td>\n",
       "      <td>Self</td>\n",
       "      <td>NO</td>\n",
       "    </tr>\n",
       "    <tr>\n",
       "      <th>2</th>\n",
       "      <td>3</td>\n",
       "      <td>1</td>\n",
       "      <td>1</td>\n",
       "      <td>0</td>\n",
       "      <td>1</td>\n",
       "      <td>1</td>\n",
       "      <td>0</td>\n",
       "      <td>1</td>\n",
       "      <td>1</td>\n",
       "      <td>1</td>\n",
       "      <td>...</td>\n",
       "      <td>m</td>\n",
       "      <td>Latino</td>\n",
       "      <td>yes</td>\n",
       "      <td>yes</td>\n",
       "      <td>Spain</td>\n",
       "      <td>no</td>\n",
       "      <td>8</td>\n",
       "      <td>18 and more</td>\n",
       "      <td>Parent</td>\n",
       "      <td>YES</td>\n",
       "    </tr>\n",
       "    <tr>\n",
       "      <th>3</th>\n",
       "      <td>4</td>\n",
       "      <td>1</td>\n",
       "      <td>1</td>\n",
       "      <td>0</td>\n",
       "      <td>1</td>\n",
       "      <td>0</td>\n",
       "      <td>0</td>\n",
       "      <td>1</td>\n",
       "      <td>1</td>\n",
       "      <td>0</td>\n",
       "      <td>...</td>\n",
       "      <td>f</td>\n",
       "      <td>White-European</td>\n",
       "      <td>no</td>\n",
       "      <td>yes</td>\n",
       "      <td>United States</td>\n",
       "      <td>no</td>\n",
       "      <td>6</td>\n",
       "      <td>18 and more</td>\n",
       "      <td>Self</td>\n",
       "      <td>NO</td>\n",
       "    </tr>\n",
       "    <tr>\n",
       "      <th>4</th>\n",
       "      <td>5</td>\n",
       "      <td>1</td>\n",
       "      <td>0</td>\n",
       "      <td>0</td>\n",
       "      <td>0</td>\n",
       "      <td>0</td>\n",
       "      <td>0</td>\n",
       "      <td>0</td>\n",
       "      <td>1</td>\n",
       "      <td>0</td>\n",
       "      <td>...</td>\n",
       "      <td>f</td>\n",
       "      <td>?</td>\n",
       "      <td>no</td>\n",
       "      <td>no</td>\n",
       "      <td>Egypt</td>\n",
       "      <td>no</td>\n",
       "      <td>2</td>\n",
       "      <td>18 and more</td>\n",
       "      <td>?</td>\n",
       "      <td>NO</td>\n",
       "    </tr>\n",
       "  </tbody>\n",
       "</table>\n",
       "<p>5 rows × 22 columns</p>\n",
       "</div>"
      ],
      "text/plain": [
       "   id  A1_Score  A2_Score  A3_Score  A4_Score  A5_Score  A6_Score  A7_Score  \\\n",
       "0   1         1         1         1         1         0         0         1   \n",
       "1   2         1         1         0         1         0         0         0   \n",
       "2   3         1         1         0         1         1         0         1   \n",
       "3   4         1         1         0         1         0         0         1   \n",
       "4   5         1         0         0         0         0         0         0   \n",
       "\n",
       "   A8_Score  A9_Score  ...  gender       ethnicity jundice austim  \\\n",
       "0         1         0  ...       f  White-European      no     no   \n",
       "1         1         0  ...       m          Latino      no    yes   \n",
       "2         1         1  ...       m          Latino     yes    yes   \n",
       "3         1         0  ...       f  White-European      no    yes   \n",
       "4         1         0  ...       f               ?      no     no   \n",
       "\n",
       "   contry_of_res used_app_before result     age_desc  relation Class/ASD  \n",
       "0  United States              no      6  18 and more      Self        NO  \n",
       "1         Brazil              no      5  18 and more      Self        NO  \n",
       "2          Spain              no      8  18 and more    Parent       YES  \n",
       "3  United States              no      6  18 and more      Self        NO  \n",
       "4          Egypt              no      2  18 and more         ?        NO  \n",
       "\n",
       "[5 rows x 22 columns]"
      ]
     },
     "execution_count": 17,
     "metadata": {},
     "output_type": "execute_result"
    }
   ],
   "source": [
    "# Criando dataframe\n",
    "df = dataset.autism()\n",
    "#df.set_index('id', inplace=True)\n",
    "df.head()"
   ]
  },
  {
   "cell_type": "code",
   "execution_count": 18,
   "id": "69f30585",
   "metadata": {},
   "outputs": [],
   "source": [
    "# Função de plotagem da matriz de confusão\n",
    "def plot_confusion_matrix(y_test,result,cmap = plt.cm.Blues):\n",
    "    # Confusion matrix\n",
    "    cm = confusion_matrix(y_test,result)\n",
    "    classe = unique_labels(y_test,result)\n",
    "    fig, ax = plt.subplots()\n",
    "    im = ax.imshow(cm, interpolation='nearest', cmap=cmap)\n",
    "    ax.figure.colorbar(im, ax=ax)\n",
    "    # We want to show all ticks...\n",
    "    ax.set(xticks=np.arange(cm.shape[1]),\n",
    "           yticks=np.arange(cm.shape[0]),\n",
    "           # ... and label them with the respective list entries\n",
    "           xticklabels=classe, yticklabels=classe,\n",
    "           title= 'Matriz de confusão',\n",
    "           ylabel='Rótulo real',\n",
    "           xlabel='Rótulo previsto')\n",
    "\n",
    "    # Rotate the tick labels and set their alignment.\n",
    "    plt.setp(ax.get_xticklabels(), rotation=45, ha=\"right\",\n",
    "             rotation_mode=\"anchor\")\n",
    "\n",
    "    # Loop over data dimensions and create text annotations.\n",
    "    thresh = cm.max() / 2.\n",
    "    for i in range(cm.shape[0]):\n",
    "        for j in range(cm.shape[1]):\n",
    "            ax.text(j, i, format(cm[i, j]),\n",
    "                    ha=\"center\", va=\"center\",\n",
    "                    color=\"white\" if cm[i, j] > thresh else \"black\")\n",
    "    fig.tight_layout()\n",
    "    return ax"
   ]
  },
  {
   "cell_type": "markdown",
   "id": "7bc30329",
   "metadata": {},
   "source": [
    "## Feature Engineering\n",
    "Nessa etapa será selecionado as features que vamos utilizar no modelo baseline."
   ]
  },
  {
   "cell_type": "code",
   "execution_count": 19,
   "id": "159323ec",
   "metadata": {},
   "outputs": [
    {
     "data": {
      "text/plain": [
       "['A1_Score',\n",
       " 'A2_Score',\n",
       " 'A3_Score',\n",
       " 'A4_Score',\n",
       " 'A5_Score',\n",
       " 'A6_Score',\n",
       " 'A7_Score',\n",
       " 'A8_Score',\n",
       " 'A9_Score',\n",
       " 'A10_Score']"
      ]
     },
     "execution_count": 19,
     "metadata": {},
     "output_type": "execute_result"
    }
   ],
   "source": [
    "# Selecionando colunas com os traços comportamentais.\n",
    "columns = ['A{}_Score'.format(i) for i in range(1,11)]\n",
    "\n",
    "columns"
   ]
  },
  {
   "cell_type": "code",
   "execution_count": 20,
   "id": "6c0e4931",
   "metadata": {},
   "outputs": [
    {
     "data": {
      "text/html": [
       "<div>\n",
       "<style scoped>\n",
       "    .dataframe tbody tr th:only-of-type {\n",
       "        vertical-align: middle;\n",
       "    }\n",
       "\n",
       "    .dataframe tbody tr th {\n",
       "        vertical-align: top;\n",
       "    }\n",
       "\n",
       "    .dataframe thead th {\n",
       "        text-align: right;\n",
       "    }\n",
       "</style>\n",
       "<table border=\"1\" class=\"dataframe\">\n",
       "  <thead>\n",
       "    <tr style=\"text-align: right;\">\n",
       "      <th></th>\n",
       "      <th>A1_Score</th>\n",
       "      <th>A2_Score</th>\n",
       "      <th>A3_Score</th>\n",
       "      <th>A4_Score</th>\n",
       "      <th>A5_Score</th>\n",
       "      <th>A6_Score</th>\n",
       "      <th>A7_Score</th>\n",
       "      <th>A8_Score</th>\n",
       "      <th>A9_Score</th>\n",
       "      <th>A10_Score</th>\n",
       "    </tr>\n",
       "  </thead>\n",
       "  <tbody>\n",
       "    <tr>\n",
       "      <th>0</th>\n",
       "      <td>1</td>\n",
       "      <td>1</td>\n",
       "      <td>1</td>\n",
       "      <td>1</td>\n",
       "      <td>0</td>\n",
       "      <td>0</td>\n",
       "      <td>1</td>\n",
       "      <td>1</td>\n",
       "      <td>0</td>\n",
       "      <td>0</td>\n",
       "    </tr>\n",
       "    <tr>\n",
       "      <th>1</th>\n",
       "      <td>1</td>\n",
       "      <td>1</td>\n",
       "      <td>0</td>\n",
       "      <td>1</td>\n",
       "      <td>0</td>\n",
       "      <td>0</td>\n",
       "      <td>0</td>\n",
       "      <td>1</td>\n",
       "      <td>0</td>\n",
       "      <td>1</td>\n",
       "    </tr>\n",
       "    <tr>\n",
       "      <th>2</th>\n",
       "      <td>1</td>\n",
       "      <td>1</td>\n",
       "      <td>0</td>\n",
       "      <td>1</td>\n",
       "      <td>1</td>\n",
       "      <td>0</td>\n",
       "      <td>1</td>\n",
       "      <td>1</td>\n",
       "      <td>1</td>\n",
       "      <td>1</td>\n",
       "    </tr>\n",
       "    <tr>\n",
       "      <th>3</th>\n",
       "      <td>1</td>\n",
       "      <td>1</td>\n",
       "      <td>0</td>\n",
       "      <td>1</td>\n",
       "      <td>0</td>\n",
       "      <td>0</td>\n",
       "      <td>1</td>\n",
       "      <td>1</td>\n",
       "      <td>0</td>\n",
       "      <td>1</td>\n",
       "    </tr>\n",
       "    <tr>\n",
       "      <th>4</th>\n",
       "      <td>1</td>\n",
       "      <td>0</td>\n",
       "      <td>0</td>\n",
       "      <td>0</td>\n",
       "      <td>0</td>\n",
       "      <td>0</td>\n",
       "      <td>0</td>\n",
       "      <td>1</td>\n",
       "      <td>0</td>\n",
       "      <td>0</td>\n",
       "    </tr>\n",
       "    <tr>\n",
       "      <th>...</th>\n",
       "      <td>...</td>\n",
       "      <td>...</td>\n",
       "      <td>...</td>\n",
       "      <td>...</td>\n",
       "      <td>...</td>\n",
       "      <td>...</td>\n",
       "      <td>...</td>\n",
       "      <td>...</td>\n",
       "      <td>...</td>\n",
       "      <td>...</td>\n",
       "    </tr>\n",
       "    <tr>\n",
       "      <th>699</th>\n",
       "      <td>0</td>\n",
       "      <td>1</td>\n",
       "      <td>0</td>\n",
       "      <td>1</td>\n",
       "      <td>1</td>\n",
       "      <td>0</td>\n",
       "      <td>1</td>\n",
       "      <td>1</td>\n",
       "      <td>1</td>\n",
       "      <td>1</td>\n",
       "    </tr>\n",
       "    <tr>\n",
       "      <th>700</th>\n",
       "      <td>1</td>\n",
       "      <td>0</td>\n",
       "      <td>0</td>\n",
       "      <td>0</td>\n",
       "      <td>0</td>\n",
       "      <td>0</td>\n",
       "      <td>0</td>\n",
       "      <td>1</td>\n",
       "      <td>0</td>\n",
       "      <td>1</td>\n",
       "    </tr>\n",
       "    <tr>\n",
       "      <th>701</th>\n",
       "      <td>1</td>\n",
       "      <td>0</td>\n",
       "      <td>1</td>\n",
       "      <td>1</td>\n",
       "      <td>1</td>\n",
       "      <td>0</td>\n",
       "      <td>1</td>\n",
       "      <td>1</td>\n",
       "      <td>0</td>\n",
       "      <td>1</td>\n",
       "    </tr>\n",
       "    <tr>\n",
       "      <th>702</th>\n",
       "      <td>1</td>\n",
       "      <td>0</td>\n",
       "      <td>0</td>\n",
       "      <td>1</td>\n",
       "      <td>1</td>\n",
       "      <td>0</td>\n",
       "      <td>1</td>\n",
       "      <td>0</td>\n",
       "      <td>1</td>\n",
       "      <td>1</td>\n",
       "    </tr>\n",
       "    <tr>\n",
       "      <th>703</th>\n",
       "      <td>1</td>\n",
       "      <td>0</td>\n",
       "      <td>1</td>\n",
       "      <td>1</td>\n",
       "      <td>1</td>\n",
       "      <td>0</td>\n",
       "      <td>1</td>\n",
       "      <td>1</td>\n",
       "      <td>1</td>\n",
       "      <td>1</td>\n",
       "    </tr>\n",
       "  </tbody>\n",
       "</table>\n",
       "<p>704 rows × 10 columns</p>\n",
       "</div>"
      ],
      "text/plain": [
       "     A1_Score  A2_Score  A3_Score  A4_Score  A5_Score  A6_Score  A7_Score  \\\n",
       "0           1         1         1         1         0         0         1   \n",
       "1           1         1         0         1         0         0         0   \n",
       "2           1         1         0         1         1         0         1   \n",
       "3           1         1         0         1         0         0         1   \n",
       "4           1         0         0         0         0         0         0   \n",
       "..        ...       ...       ...       ...       ...       ...       ...   \n",
       "699         0         1         0         1         1         0         1   \n",
       "700         1         0         0         0         0         0         0   \n",
       "701         1         0         1         1         1         0         1   \n",
       "702         1         0         0         1         1         0         1   \n",
       "703         1         0         1         1         1         0         1   \n",
       "\n",
       "     A8_Score  A9_Score  A10_Score  \n",
       "0           1         0          0  \n",
       "1           1         0          1  \n",
       "2           1         1          1  \n",
       "3           1         0          1  \n",
       "4           1         0          0  \n",
       "..        ...       ...        ...  \n",
       "699         1         1          1  \n",
       "700         1         0          1  \n",
       "701         1         0          1  \n",
       "702         0         1          1  \n",
       "703         1         1          1  \n",
       "\n",
       "[704 rows x 10 columns]"
      ]
     },
     "execution_count": 20,
     "metadata": {},
     "output_type": "execute_result"
    }
   ],
   "source": [
    "# Separando em variáveis preditoras X e alvo da nossa predição Y\n",
    "X = df[columns]\n",
    "X"
   ]
  },
  {
   "cell_type": "code",
   "execution_count": 21,
   "id": "a3351bd3",
   "metadata": {},
   "outputs": [
    {
     "data": {
      "text/plain": [
       "0      Sem_Autismo\n",
       "1      Sem_Autismo\n",
       "2          Autismo\n",
       "3      Sem_Autismo\n",
       "4      Sem_Autismo\n",
       "          ...     \n",
       "699        Autismo\n",
       "700    Sem_Autismo\n",
       "701        Autismo\n",
       "702    Sem_Autismo\n",
       "703        Autismo\n",
       "Name: Class/ASD, Length: 704, dtype: object"
      ]
     },
     "execution_count": 21,
     "metadata": {},
     "output_type": "execute_result"
    }
   ],
   "source": [
    "Y = df['Class/ASD']\n",
    "\n",
    "# Para melhor entendimento do dataset, iremos renomear os valores de Y\n",
    "Y = Y.replace({'NO':'Sem_Autismo','YES':'Autismo'})\n",
    "Y"
   ]
  },
  {
   "cell_type": "markdown",
   "id": "dfc0d8a3",
   "metadata": {},
   "source": [
    "## Modeling e Analysis\n",
    "Nessa etapa aplicaremos o modelo que foi selecionado e com isso a contrução das predições do nosso modelo baseline.\n",
    "\n",
    "Modelo selecionado: Decision Tree\n",
    "Motivo: Fácil compreensão."
   ]
  },
  {
   "cell_type": "code",
   "execution_count": 22,
   "id": "73a8bc26",
   "metadata": {},
   "outputs": [
    {
     "data": {
      "text/plain": [
       "DecisionTreeClassifier()"
      ]
     },
     "execution_count": 22,
     "metadata": {},
     "output_type": "execute_result"
    }
   ],
   "source": [
    "# Criação do modelo\n",
    "\n",
    "baseline = tree.DecisionTreeClassifier()\n",
    "baseline"
   ]
  },
  {
   "cell_type": "markdown",
   "id": "92f09d21",
   "metadata": {},
   "source": [
    "## Treino e Teste"
   ]
  },
  {
   "cell_type": "code",
   "execution_count": 23,
   "id": "715a5b78",
   "metadata": {},
   "outputs": [
    {
     "data": {
      "text/html": [
       "<div>\n",
       "<style scoped>\n",
       "    .dataframe tbody tr th:only-of-type {\n",
       "        vertical-align: middle;\n",
       "    }\n",
       "\n",
       "    .dataframe tbody tr th {\n",
       "        vertical-align: top;\n",
       "    }\n",
       "\n",
       "    .dataframe thead th {\n",
       "        text-align: right;\n",
       "    }\n",
       "</style>\n",
       "<table border=\"1\" class=\"dataframe\">\n",
       "  <thead>\n",
       "    <tr style=\"text-align: right;\">\n",
       "      <th></th>\n",
       "      <th>y_test</th>\n",
       "      <th>y_pred</th>\n",
       "    </tr>\n",
       "  </thead>\n",
       "  <tbody>\n",
       "    <tr>\n",
       "      <th>0</th>\n",
       "      <td>Sem_Autismo</td>\n",
       "      <td>Sem_Autismo</td>\n",
       "    </tr>\n",
       "    <tr>\n",
       "      <th>1</th>\n",
       "      <td>Autismo</td>\n",
       "      <td>Sem_Autismo</td>\n",
       "    </tr>\n",
       "    <tr>\n",
       "      <th>2</th>\n",
       "      <td>Autismo</td>\n",
       "      <td>Autismo</td>\n",
       "    </tr>\n",
       "    <tr>\n",
       "      <th>3</th>\n",
       "      <td>Autismo</td>\n",
       "      <td>Sem_Autismo</td>\n",
       "    </tr>\n",
       "    <tr>\n",
       "      <th>4</th>\n",
       "      <td>Sem_Autismo</td>\n",
       "      <td>Sem_Autismo</td>\n",
       "    </tr>\n",
       "  </tbody>\n",
       "</table>\n",
       "</div>"
      ],
      "text/plain": [
       "        y_test       y_pred\n",
       "0  Sem_Autismo  Sem_Autismo\n",
       "1      Autismo  Sem_Autismo\n",
       "2      Autismo      Autismo\n",
       "3      Autismo  Sem_Autismo\n",
       "4  Sem_Autismo  Sem_Autismo"
      ]
     },
     "execution_count": 23,
     "metadata": {},
     "output_type": "execute_result"
    }
   ],
   "source": [
    "# Separando em treino e teste\n",
    "x_train,x_test,y_train,y_test = train_test_split(X,Y,\n",
    "                                                 test_size = 0.4,\n",
    "                                                 random_state = 40)\n",
    "\n",
    "# Treinando o modelo\n",
    "test1 = baseline.fit(x_train,y_train)\n",
    "\n",
    "results = test1.predict(x_test)\n",
    "y_pred = results\n",
    "table = pd.DataFrame(list(zip(y_test, y_pred)), columns=['y_test', 'y_pred'])\n",
    "table.head()"
   ]
  },
  {
   "cell_type": "code",
   "execution_count": 24,
   "id": "1bd74452",
   "metadata": {},
   "outputs": [
    {
     "name": "stdout",
     "output_type": "stream",
     "text": [
      "Exemplos de Falso Negativos\n"
     ]
    },
    {
     "data": {
      "text/html": [
       "<div>\n",
       "<style scoped>\n",
       "    .dataframe tbody tr th:only-of-type {\n",
       "        vertical-align: middle;\n",
       "    }\n",
       "\n",
       "    .dataframe tbody tr th {\n",
       "        vertical-align: top;\n",
       "    }\n",
       "\n",
       "    .dataframe thead th {\n",
       "        text-align: right;\n",
       "    }\n",
       "</style>\n",
       "<table border=\"1\" class=\"dataframe\">\n",
       "  <thead>\n",
       "    <tr style=\"text-align: right;\">\n",
       "      <th></th>\n",
       "      <th>y_test</th>\n",
       "      <th>y_pred</th>\n",
       "    </tr>\n",
       "  </thead>\n",
       "  <tbody>\n",
       "    <tr>\n",
       "      <th>1</th>\n",
       "      <td>Autismo</td>\n",
       "      <td>Sem_Autismo</td>\n",
       "    </tr>\n",
       "    <tr>\n",
       "      <th>3</th>\n",
       "      <td>Autismo</td>\n",
       "      <td>Sem_Autismo</td>\n",
       "    </tr>\n",
       "    <tr>\n",
       "      <th>5</th>\n",
       "      <td>Autismo</td>\n",
       "      <td>Sem_Autismo</td>\n",
       "    </tr>\n",
       "    <tr>\n",
       "      <th>29</th>\n",
       "      <td>Autismo</td>\n",
       "      <td>Sem_Autismo</td>\n",
       "    </tr>\n",
       "    <tr>\n",
       "      <th>156</th>\n",
       "      <td>Autismo</td>\n",
       "      <td>Sem_Autismo</td>\n",
       "    </tr>\n",
       "    <tr>\n",
       "      <th>159</th>\n",
       "      <td>Autismo</td>\n",
       "      <td>Sem_Autismo</td>\n",
       "    </tr>\n",
       "    <tr>\n",
       "      <th>192</th>\n",
       "      <td>Autismo</td>\n",
       "      <td>Sem_Autismo</td>\n",
       "    </tr>\n",
       "    <tr>\n",
       "      <th>206</th>\n",
       "      <td>Autismo</td>\n",
       "      <td>Sem_Autismo</td>\n",
       "    </tr>\n",
       "  </tbody>\n",
       "</table>\n",
       "</div>"
      ],
      "text/plain": [
       "      y_test       y_pred\n",
       "1    Autismo  Sem_Autismo\n",
       "3    Autismo  Sem_Autismo\n",
       "5    Autismo  Sem_Autismo\n",
       "29   Autismo  Sem_Autismo\n",
       "156  Autismo  Sem_Autismo\n",
       "159  Autismo  Sem_Autismo\n",
       "192  Autismo  Sem_Autismo\n",
       "206  Autismo  Sem_Autismo"
      ]
     },
     "execution_count": 24,
     "metadata": {},
     "output_type": "execute_result"
    }
   ],
   "source": [
    "print('Exemplos de Falso Negativos')\n",
    "table[(table.y_test == 'Autismo') & (table.y_pred == 'Sem_Autismo')]"
   ]
  },
  {
   "cell_type": "code",
   "execution_count": 25,
   "id": "21dc4b25",
   "metadata": {},
   "outputs": [
    {
     "name": "stdout",
     "output_type": "stream",
     "text": [
      "Exemplos de Falso Positivos\n"
     ]
    },
    {
     "data": {
      "text/html": [
       "<div>\n",
       "<style scoped>\n",
       "    .dataframe tbody tr th:only-of-type {\n",
       "        vertical-align: middle;\n",
       "    }\n",
       "\n",
       "    .dataframe tbody tr th {\n",
       "        vertical-align: top;\n",
       "    }\n",
       "\n",
       "    .dataframe thead th {\n",
       "        text-align: right;\n",
       "    }\n",
       "</style>\n",
       "<table border=\"1\" class=\"dataframe\">\n",
       "  <thead>\n",
       "    <tr style=\"text-align: right;\">\n",
       "      <th></th>\n",
       "      <th>y_test</th>\n",
       "      <th>y_pred</th>\n",
       "    </tr>\n",
       "  </thead>\n",
       "  <tbody>\n",
       "    <tr>\n",
       "      <th>7</th>\n",
       "      <td>Sem_Autismo</td>\n",
       "      <td>Autismo</td>\n",
       "    </tr>\n",
       "    <tr>\n",
       "      <th>53</th>\n",
       "      <td>Sem_Autismo</td>\n",
       "      <td>Autismo</td>\n",
       "    </tr>\n",
       "    <tr>\n",
       "      <th>128</th>\n",
       "      <td>Sem_Autismo</td>\n",
       "      <td>Autismo</td>\n",
       "    </tr>\n",
       "    <tr>\n",
       "      <th>134</th>\n",
       "      <td>Sem_Autismo</td>\n",
       "      <td>Autismo</td>\n",
       "    </tr>\n",
       "    <tr>\n",
       "      <th>162</th>\n",
       "      <td>Sem_Autismo</td>\n",
       "      <td>Autismo</td>\n",
       "    </tr>\n",
       "    <tr>\n",
       "      <th>222</th>\n",
       "      <td>Sem_Autismo</td>\n",
       "      <td>Autismo</td>\n",
       "    </tr>\n",
       "  </tbody>\n",
       "</table>\n",
       "</div>"
      ],
      "text/plain": [
       "          y_test   y_pred\n",
       "7    Sem_Autismo  Autismo\n",
       "53   Sem_Autismo  Autismo\n",
       "128  Sem_Autismo  Autismo\n",
       "134  Sem_Autismo  Autismo\n",
       "162  Sem_Autismo  Autismo\n",
       "222  Sem_Autismo  Autismo"
      ]
     },
     "execution_count": 25,
     "metadata": {},
     "output_type": "execute_result"
    }
   ],
   "source": [
    "print('Exemplos de Falso Positivos')\n",
    "table[(table.y_test == 'Sem_Autismo') & (table.y_pred == 'Autismo')]"
   ]
  },
  {
   "cell_type": "code",
   "execution_count": 26,
   "id": "a1f44843",
   "metadata": {},
   "outputs": [
    {
     "data": {
      "image/png": "[encoded data removed]",
      "text/plain": [
       "<Figure size 432x288 with 2 Axes>"
      ]
     },
     "metadata": {
      "needs_background": "light"
     },
     "output_type": "display_data"
    }
   ],
   "source": [
    "# Informações do modelo\n",
    "plot_confusion_matrix(y_test,results)\n",
    "metrics1 = metrics.classification_report(y_test, y_pred, ['Sem_Autismo', 'Autismo'])\n",
    "plt.show()"
   ]
  },
  {
   "cell_type": "code",
   "execution_count": 27,
   "id": "29a9acbe",
   "metadata": {},
   "outputs": [
    {
     "name": "stdout",
     "output_type": "stream",
     "text": [
      "Métricas do modelo que implementamos: \n",
      "\n",
      "{'accuracy': 2.0721649484536084,\n",
      " 'f1': 0.965,\n",
      " 'precision': 0.9601990049751243,\n",
      " 'recall': 0.9698492462311558}\n",
      "\n",
      "Métricas já embutidas no sklearn: \n",
      "\n",
      "              precision    recall  f1-score   support\n",
      "\n",
      "     Autismo       0.93      0.90      0.91        83\n",
      " Sem_Autismo       0.96      0.97      0.96       199\n",
      "\n",
      "    accuracy                           0.95       282\n",
      "   macro avg       0.94      0.94      0.94       282\n",
      "weighted avg       0.95      0.95      0.95       282\n",
      "\n"
     ]
    }
   ],
   "source": [
    "print(\"Métricas do modelo que implementamos: \\n\")\n",
    "pprint(metrics1)\n",
    "print()\n",
    "\n",
    "print(\"Métricas já embutidas no sklearn: \\n\")\n",
    "print(sklearn.metrics.classification_report(y_test, y_pred))"
   ]
  },
  {
   "cell_type": "markdown",
   "id": "6b81f499",
   "metadata": {},
   "source": [
    "##  K-Fold Cross Validation"
   ]
  },
  {
   "cell_type": "code",
   "execution_count": 28,
   "id": "f87cb4ed",
   "metadata": {},
   "outputs": [
    {
     "name": "stdout",
     "output_type": "stream",
     "text": [
      "StratifiedKFold(n_splits=5, random_state=1, shuffle=True)\n"
     ]
    }
   ],
   "source": [
    "# Validação cruzada k-fold\n",
    "#kf  = KFold(n_splits = 5, shuffle = True, random_state = 1)\n",
    "skf = StratifiedKFold(n_splits = 5, shuffle = True, random_state = 1)\n",
    "print(skf)"
   ]
  },
  {
   "cell_type": "code",
   "execution_count": 29,
   "id": "25a93137",
   "metadata": {
    "scrolled": false
   },
   "outputs": [
    {
     "name": "stdout",
     "output_type": "stream",
     "text": [
      "Métricas 0 \n",
      "  \n",
      "              precision    recall  f1-score   support\n",
      "\n",
      "     Autismo       0.85      0.87      0.86        38\n",
      " Sem_Autismo       0.95      0.94      0.95       103\n",
      "\n",
      "    accuracy                           0.92       141\n",
      "   macro avg       0.90      0.91      0.90       141\n",
      "weighted avg       0.92      0.92      0.92       141\n",
      "\n",
      "Métricas 1 \n",
      "  \n",
      "              precision    recall  f1-score   support\n",
      "\n",
      "     Autismo       0.86      1.00      0.93        38\n",
      " Sem_Autismo       1.00      0.94      0.97       103\n",
      "\n",
      "    accuracy                           0.96       141\n",
      "   macro avg       0.93      0.97      0.95       141\n",
      "weighted avg       0.96      0.96      0.96       141\n",
      "\n",
      "Métricas 2 \n",
      "  \n",
      "              precision    recall  f1-score   support\n",
      "\n",
      "     Autismo       0.92      0.87      0.89        38\n",
      " Sem_Autismo       0.95      0.97      0.96       103\n",
      "\n",
      "    accuracy                           0.94       141\n",
      "   macro avg       0.93      0.92      0.93       141\n",
      "weighted avg       0.94      0.94      0.94       141\n",
      "\n",
      "Métricas 3 \n",
      "  \n",
      "              precision    recall  f1-score   support\n",
      "\n",
      "     Autismo       0.84      0.82      0.83        38\n",
      " Sem_Autismo       0.93      0.94      0.94       103\n",
      "\n",
      "    accuracy                           0.91       141\n",
      "   macro avg       0.89      0.88      0.88       141\n",
      "weighted avg       0.91      0.91      0.91       141\n",
      "\n",
      "Métricas 4 \n",
      "  \n",
      "              precision    recall  f1-score   support\n",
      "\n",
      "     Autismo       0.84      0.97      0.90        37\n",
      " Sem_Autismo       0.99      0.93      0.96       103\n",
      "\n",
      "    accuracy                           0.94       140\n",
      "   macro avg       0.91      0.95      0.93       140\n",
      "weighted avg       0.95      0.94      0.94       140\n",
      "\n"
     ]
    },
    {
     "data": {
      "image/png": "[encoded data removed]",
      "text/plain": [
       "<Figure size 432x288 with 2 Axes>"
      ]
     },
     "metadata": {
      "needs_background": "light"
     },
     "output_type": "display_data"
    },
    {
     "data": {
      "image/png": "[encoded data removed]",
      "text/plain": [
       "<Figure size 432x288 with 2 Axes>"
      ]
     },
     "metadata": {
      "needs_background": "light"
     },
     "output_type": "display_data"
    },
    {
     "data": {
      "image/png": "[encoded data removed]",
      "text/plain": [
       "<Figure size 432x288 with 2 Axes>"
      ]
     },
     "metadata": {
      "needs_background": "light"
     },
     "output_type": "display_data"
    },
    {
     "data": {
      "image/png": "[encoded data removed]",
      "text/plain": [
       "<Figure size 432x288 with 2 Axes>"
      ]
     },
     "metadata": {
      "needs_background": "light"
     },
     "output_type": "display_data"
    },
    {
     "data": {
      "image/png": "[encoded data removed]",
      "text/plain": [
       "<Figure size 432x288 with 2 Axes>"
      ]
     },
     "metadata": {
      "needs_background": "light"
     },
     "output_type": "display_data"
    }
   ],
   "source": [
    "metricas = []\n",
    "i = 0\n",
    "# Separando as bases de treino e teste\n",
    "for train,test in skf.split(X,Y):\n",
    "    #print(train)\n",
    "    #print(test)\n",
    "    # Dicionaro de treino\n",
    "    train_x, test_x = X.iloc[train], X.iloc[test]\n",
    "    train_y, test_y = Y.iloc[train], Y.iloc[test]\n",
    "    aux = baseline.fit(train_x,train_y)\n",
    "    rst = aux.predict(test_x)\n",
    "    #metricas.append(metrics.classification_report(test_y, rst, ['Sem_Autismo', 'Autismo']))\n",
    "    print('Métricas {} \\n  \\n{}'.format(i, sklearn.metrics.classification_report(test_y, rst)))\n",
    "    #print('Métrica implementada \\n  \\n{}'.format(metricas[i]))\n",
    "    plot_confusion_matrix(test_y,rst)\n",
    "    i+=1"
   ]
  },
  {
   "cell_type": "code",
   "execution_count": null,
   "id": "10018dbf",
   "metadata": {},
   "outputs": [],
   "source": [
    "# Calculo da Média e Desvio padrão das métricas\n",
    "ac = np.array([metricas[x]['accuracy'] for x in range(5)])\n",
    "pc = np.array([metricas[x]['precision'] for x in range(5)])\n",
    "rc = np.array([metricas[x]['recall'] for x in range(5)])\n",
    "f1 = np.array([metricas[x]['f1'] for x in range(5)])\n",
    "\n",
    "# Média e devio padrão\n",
    "me_ac = np.mean(ac)\n",
    "std_ac = np.std(ac)\n",
    "\n",
    "print('Accuracy - média: {} e desvio padrão:: {}'.format(me_ac,std_ac))\n",
    "\n",
    "me_pc = np.mean(pc)\n",
    "std_pc = np.std(pc)\n",
    "\n",
    "print('Precision - média: {} e desvio padrão:: {}'.format(me_pc,std_pc))\n",
    "\n",
    "me_rc = np.mean(rc)\n",
    "std_rc = np.std(rc)\n",
    "\n",
    "print('Recall - média: {} e desvio padrão:: {}'.format(me_rc,std_rc))\n",
    "\n",
    "me_f1 = np.mean(f1)\n",
    "std_f1 = np.std(f1)\n",
    "\n",
    "print('F1 Score - média: {} e desvio padrão:: {}'.format(me_f1,std_f1))"
   ]
  },
  {
   "cell_type": "markdown",
   "id": "c8cca696",
   "metadata": {},
   "source": [
    "## Feature Importance"
   ]
  },
  {
   "cell_type": "code",
   "execution_count": null,
   "id": "b23ea0da",
   "metadata": {},
   "outputs": [],
   "source": [
    "dic = {i:baseline.feature_importances_[v] for v,i in enumerate(X.columns)}\n",
    "dic"
   ]
  },
  {
   "cell_type": "code",
   "execution_count": null,
   "id": "8d7b0b74",
   "metadata": {
    "scrolled": true
   },
   "outputs": [],
   "source": [
    "pd.DataFrame(list(dic.items()), columns=['feature', 'importance']).sort_values(by='importance', ascending=False)"
   ]
  },
  {
   "cell_type": "code",
   "execution_count": null,
   "id": "09470b85",
   "metadata": {
    "scrolled": true
   },
   "outputs": [],
   "source": [
    "X.columns"
   ]
  },
  {
   "cell_type": "code",
   "execution_count": null,
   "id": "66bc7078",
   "metadata": {},
   "outputs": [],
   "source": [
    "feature_names = ['A1_Score', 'A2_Score', 'A3_Score', 'A4_Score', 'A5_Score', 'A6_Score',\n",
    "       'A7_Score', 'A8_Score', 'A9_Score', 'A10_Score']\n",
    "text_representation = tree.export_text(test1, feature_names=feature_names)\n",
    "#r = tree.export_text(test1, feature_names=X.columns)\n",
    "#print(r)\n",
    "print(text_representation)"
   ]
  },
  {
   "cell_type": "code",
   "execution_count": null,
   "id": "1b98ceca",
   "metadata": {},
   "outputs": [],
   "source": [
    "import os\n",
    "os.environ[\"PATH\"] += os.pathsep + 'C:/Program Files/Graphviz/bin/'\n",
    "\n",
    "import graphviz\n",
    "# DOT data\n",
    "dot_data = tree.export_graphviz(test1, out_file=None, \n",
    "                                feature_names=X.columns,  \n",
    "                                class_names=['Sem_Autismo', 'Autismo'],\n",
    "                                filled=True)\n",
    "\n",
    "# Draw graph\n",
    "graph = graphviz.Source(dot_data, format=\"png\") \n",
    "graph"
   ]
  },
  {
   "cell_type": "code",
   "execution_count": null,
   "id": "7c2cf424",
   "metadata": {},
   "outputs": [],
   "source": [
    "graph.render(\"decision_tree_graphivz\")"
   ]
  },
  {
   "cell_type": "markdown",
   "id": "cb83f6fb",
   "metadata": {},
   "source": [
    "![Árvore de decisão](decision_tree_graphivz.png \"Árvore de decisão\")"
   ]
  },
  {
   "cell_type": "code",
   "execution_count": null,
   "id": "36aa7965",
   "metadata": {},
   "outputs": [],
   "source": []
  }
 ],
 "metadata": {
  "kernelspec": {
   "display_name": "Python 3",
   "language": "python",
   "name": "python3"
  },
  "language_info": {
   "codemirror_mode": {
    "name": "ipython",
    "version": 3
   },
   "file_extension": ".py",
   "mimetype": "text/x-python",
   "name": "python",
   "nbconvert_exporter": "python",
   "pygments_lexer": "ipython3",
   "version": "3.8.8"
  }
 },
 "nbformat": 4,
 "nbformat_minor": 5
}
