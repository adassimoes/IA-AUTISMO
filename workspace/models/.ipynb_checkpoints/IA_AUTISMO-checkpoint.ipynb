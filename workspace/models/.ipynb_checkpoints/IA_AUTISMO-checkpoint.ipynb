{
 "cells": [
  {
   "cell_type": "code",
   "execution_count": 2,
   "id": "04ff27e9",
   "metadata": {},
   "outputs": [
    {
     "ename": "SyntaxError",
     "evalue": "invalid syntax (<ipython-input-2-5e30dc7ef716>, line 4)",
     "output_type": "error",
     "traceback": [
      "\u001b[1;36m  File \u001b[1;32m\"<ipython-input-2-5e30dc7ef716>\"\u001b[1;36m, line \u001b[1;32m4\u001b[0m\n\u001b[1;33m    from ../adr import dataset, metrics # Importando dataset e metricas\u001b[0m\n\u001b[1;37m           ^\u001b[0m\n\u001b[1;31mSyntaxError\u001b[0m\u001b[1;31m:\u001b[0m invalid syntax\n"
     ]
    }
   ],
   "source": [
    "# importando bibliotecas\n",
    "import pandas as pd #Manipulação do dataframe\n",
    "#from asd import dataset,metrics # Importando dataset e metricas\n",
    "from adr import dataset, metrics # Importando dataset e metricas\n",
    "import numpy as np # Biblioteca de calculo cientifico\n",
    "import matplotlib.pyplot as plt # Biblioteca de visualização\n",
    "from sklearn import tree # Biblioteca do modelo de árvore de decisão\n",
    "from sklearn.model_selection import train_test_split, KFold, StratifiedKFold # Biblioteca de separação em treino e teste e validação cruzada\n",
    "from sklearn.metrics import confusion_matrix # Biblioteca que gera matriz de confusão\n",
    "from sklearn.utils.multiclass import unique_labels # Biblioteca geradora das labels\n",
    "import sklearn.metrics\n",
    "from pprint import pprint\n",
    "\n",
    "%matplotlib inline"
   ]
  },
  {
   "cell_type": "code",
   "execution_count": null,
   "id": "cf939185",
   "metadata": {},
   "outputs": [],
   "source": []
  }
 ],
 "metadata": {
  "kernelspec": {
   "display_name": "Python 3",
   "language": "python",
   "name": "python3"
  },
  "language_info": {
   "codemirror_mode": {
    "name": "ipython",
    "version": 3
   },
   "file_extension": ".py",
   "mimetype": "text/x-python",
   "name": "python",
   "nbconvert_exporter": "python",
   "pygments_lexer": "ipython3",
   "version": "3.8.8"
  }
 },
 "nbformat": 4,
 "nbformat_minor": 5
}
